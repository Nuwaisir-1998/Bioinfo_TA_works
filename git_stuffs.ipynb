{
  "nbformat": 4,
  "nbformat_minor": 0,
  "metadata": {
    "colab": {
      "name": "git_stuffs.ipynb",
      "provenance": [],
      "authorship_tag": "ABX9TyNr/fqExsrdY14mQUc6NEel",
      "include_colab_link": true
    },
    "kernelspec": {
      "name": "python3",
      "display_name": "Python 3"
    },
    "language_info": {
      "name": "python"
    }
  },
  "cells": [
    {
      "cell_type": "markdown",
      "metadata": {
        "id": "view-in-github",
        "colab_type": "text"
      },
      "source": [
        "<a href=\"https://colab.research.google.com/github/Nuwaisir-1998/Bioinfo_TA_works/blob/main/git_stuffs.ipynb\" target=\"_parent\"><img src=\"https://colab.research.google.com/assets/colab-badge.svg\" alt=\"Open In Colab\"/></a>"
      ]
    },
    {
      "cell_type": "code",
      "source": [
        "from google.colab import drive\n",
        "drive.mount('/content/drive')"
      ],
      "metadata": {
        "colab": {
          "base_uri": "https://localhost:8080/"
        },
        "id": "b3iH_Ek1PYVP",
        "outputId": "dec0223d-b1e1-497c-882f-1c6f3c19ceb5"
      },
      "execution_count": null,
      "outputs": [
        {
          "output_type": "stream",
          "name": "stdout",
          "text": [
            "Mounted at /content/drive\n"
          ]
        }
      ]
    },
    {
      "cell_type": "code",
      "source": [
        "%%bash\n",
        "git config --global user.email \"1605091@ugrad.cse.buet.ac.bd\"\n",
        "git config --global user.name \"Nuwaisir\""
      ],
      "metadata": {
        "id": "BKBK2rHxPrzr"
      },
      "execution_count": null,
      "outputs": []
    },
    {
      "cell_type": "code",
      "execution_count": null,
      "metadata": {
        "colab": {
          "base_uri": "https://localhost:8080/"
        },
        "id": "tcsPi2r5O3GN",
        "outputId": "9c1ffc70-9532-4777-b74f-20c27bdf7494"
      },
      "outputs": [
        {
          "output_type": "stream",
          "name": "stdout",
          "text": [
            "Process is interrupted.\n"
          ]
        }
      ],
      "source": [
        "%%bash\n",
        "cd /content/drive/MyDrive/Samee_sir_lab/Git_repo\n",
        "echo \"# Samee-Sir-s-Lab\" >> README.md\n",
        "git init\n",
        "git add --all\n",
        "git commit -m \"first commit\"\n",
        "git branch -M main\n",
        "git remote add origin git@github.com:Nuwaisir-1998/Samee-Sir-s-Lab.git\n",
        "git push -u origin main"
      ]
    },
    {
      "cell_type": "code",
      "source": [
        "!git branch"
      ],
      "metadata": {
        "colab": {
          "base_uri": "https://localhost:8080/"
        },
        "id": "UbRojIfDP09s",
        "outputId": "b4db2ea8-b34a-44da-8de2-499ea9725d77"
      },
      "execution_count": null,
      "outputs": [
        {
          "output_type": "stream",
          "name": "stdout",
          "text": [
            "fatal: not a git repository (or any of the parent directories): .git\n"
          ]
        }
      ]
    }
  ]
}